{
 "cells": [
  {
   "attachments": {},
   "cell_type": "markdown",
   "metadata": {},
   "source": [
    "<center>\n",
    "<h1 style=\"color: #007BC4;\">Curso de programación con Python</h1> \n",
    "<h3 style=\"color: #333333;\">SEMANA 2 - EJERCICIOS</h3> \n",
    "</center>\n",
    "\n",
    "<br>\n"
   ]
  },
  {
   "attachments": {},
   "cell_type": "markdown",
   "metadata": {},
   "source": [
    "#### Autor: escribir aquí el nombre del autor\n",
    "Gerardo A. Otero Rodríguez\n"
   ]
  },
  {
   "attachments": {},
   "cell_type": "markdown",
   "metadata": {},
   "source": [
    "<h2 style=\"color: #007BC4;\">Ejercicio 1</h2>\n",
    "<hr style=\"border: 0.5px solid #007BC4;\">\n",
    "\n",
    "Los tramos impositivos para la declaración de la renta en un determinado país son los siguientes:\n",
    "\n",
    "|         Renta          | Tipo impositivo |\n",
    "| :--------------------: | :-------------: |\n",
    "|    Menos de 10000€     |       5%        |\n",
    "| Entre 10000€ y 20000€  |       15%       |\n",
    "| Entre 20000€ y 35000€ |       20%       |\n",
    "| Entre 35000€ y 60000€ |       30%       |\n",
    "|     Más de 60000€      |       45%       |\n",
    "\n",
    "Escribir un programa que pregunte al usuario su renta anual y muestre por pantalla el tipo impositivo que le corresponde. \n",
    "\n",
    "\n",
    "#### Ejemplos de ejecución:\n",
    "\n",
    "<pre>\n",
    "¿Cuál es tu renta anual? 0\n",
    "Error, la renta ha de ser mayor que 0.\n",
    "\n",
    "--------------------------------------------------------------\n",
    "\n",
    "¿Cuál es tu renta anual? 40000\n",
    "Tu tipo impositivo es 30%\n",
    "</pre>"
   ]
  },
  {
   "cell_type": "code",
   "execution_count": 3,
   "metadata": {},
   "outputs": [],
   "source": [
    "#Escribe aquí el código de tu solución"
   ]
  },
  {
   "attachments": {},
   "cell_type": "markdown",
   "metadata": {},
   "source": [
    "<h2 style=\"color: #007BC4;\">Ejercicio 2</h2>\n",
    "<hr style=\"border: 0.5px solid #007BC4;\">\n",
    "\n",
    "Escribir un programa que pida al usuario un número entero positivo y muestre por pantalla la cuenta atrás desde ese número hasta cero separados por comas.\n",
    "\n",
    "#### Ejemplo de ejecución:\n",
    "<pre>\n",
    "Introduce un número entero positivo: 20\n",
    "20, 19, 18, 17, 16, 15, 14, 13, 12, 11, 10, 9, 8, 7, 6, 5, 4, 3, 2, 1, 0\n",
    "</pre>"
   ]
  },
  {
   "cell_type": "code",
   "execution_count": 21,
   "metadata": {},
   "outputs": [
    {
     "name": "stdout",
     "output_type": "stream",
     "text": [
      "20, 19, 18, 17, 16, 15, 14, 13, 12, 11, 10, 9, 8, 7, 6, 5, 4, 3, 2, 1, 0, "
     ]
    }
   ],
   "source": [
    "#Escribe aquí el código de tu solución\n",
    "entero_positivo = 0\n",
    "while entero_positivo <= 0:\n",
    "    entero_positivo = int(input(\"Introduce un número entero positivo: \"))\n",
    "\n",
    "for i in range(entero_positivo,-1,-1):\n",
    "    print(str(i), end = \", \")"
   ]
  },
  {
   "attachments": {},
   "cell_type": "markdown",
   "metadata": {},
   "source": [
    "<h2 style=\"color: #007BC4;\">Ejercicio 3</h2>\n",
    "<hr style=\"border: 0.5px solid #007BC4;\">\n",
    "\n",
    "Desarrollar un programa en Python que dibuje en pantalla una figura tipo sierra haciendo uso del carácter #.\n",
    "Para ello, se preguntará al usuario:\n",
    "- El ancho de la figura (valor entre 2 y 10). \n",
    "- El número de dientes de sierra que tendrá la figura (valor entre 2 y 10)\n",
    "\n",
    "#### Ejemplo de ejecución:\n",
    "<pre>\n",
    "Introduce la longitud del diente de sierra (2<=n<=10): 5\n",
    "Introduce el número de dientes de la figura (1<=n<=10): 2\n",
    "#\n",
    "##\n",
    "###\n",
    "####\n",
    "#####\n",
    "####\n",
    "###\n",
    "##\n",
    "#\n",
    "#\n",
    "##\n",
    "###\n",
    "####\n",
    "#####\n",
    "####\n",
    "###\n",
    "##\n",
    "#\n",
    "</pre>"
   ]
  },
  {
   "cell_type": "code",
   "execution_count": 20,
   "metadata": {},
   "outputs": [
    {
     "name": "stdout",
     "output_type": "stream",
     "text": [
      "#\n",
      "##\n",
      "###\n",
      "####\n",
      "#####\n",
      "####\n",
      "###\n",
      "##\n",
      "#\n",
      "#\n",
      "##\n",
      "###\n",
      "####\n",
      "#####\n",
      "####\n",
      "###\n",
      "##\n",
      "#\n"
     ]
    }
   ],
   "source": [
    "#Escribe aquí el código de tu solución\n",
    "def imprimir_diente():\n",
    "    for i in range(1,longitud_figura+1):\n",
    "        print(i*\"#\")\n",
    "    for i in range(longitud_figura-1,0,-1):\n",
    "        print(i*\"#\")\n",
    "\n",
    "\n",
    "longitud_figura = 0\n",
    "numero_dientes = 0\n",
    "\n",
    "while longitud_figura<2 or longitud_figura >10:\n",
    "    longitud_figura = int(input(\"Introduce la longitud del diente de sierra (2<=n<=10)\"))\n",
    "while numero_dientes<1 or numero_dientes>10:\n",
    "    numero_dientes = int(input(\"Introduce el número de dientes de la figura (1<=n<=10)\"))\n",
    "\n",
    "\n",
    "for i in range(numero_dientes):\n",
    "    imprimir_diente()\n"
   ]
  },
  {
   "attachments": {},
   "cell_type": "markdown",
   "metadata": {},
   "source": [
    "<h2 style=\"color: #007BC4;\">Ejercicio 4</h2>\n",
    "<hr style=\"border: 0.5px solid #007BC4;\">\n",
    "\n",
    "Realizar un programa en Python que pida al usuario la dimensión y los elementos de dos listas de números enteros (pueden tener distinta dimensión):\n",
    "\n",
    "- Una vez leídos los datos y almacenados en las listas, se generará una nueva lista que será la intersección de ambas, es decir, contendrá aquellos elementos que se encuentren en ambas listas.\n",
    "- El vector intersección se mostrará por pantalla siempre que existan elementos comunes.\n",
    "\n",
    "NOTA: se asume que el usuario no introduce elementos repetidos dentro del mismo vector.\n",
    "\n",
    "\n",
    "#### Ejemplo de ejecución:\n",
    "\n",
    "<pre>\n",
    "Introduce el numero de elementos de la lista 1 (>0):  3\n",
    "Introduce los números:\n",
    "Dato 1: 2\n",
    "Dato 2: 4\n",
    "Dato 3: 1\n",
    "\n",
    "Introduce el numero de elementos de la lista 2 (>0):  5\n",
    "Introduce los números:\n",
    "Dato 1: 3\n",
    "Dato 2: 3\n",
    "Error, elemento repetido. Dato 2: 2\n",
    "Dato 3: 9\n",
    "Dato 4: 0\n",
    "Dato 5: 1\n",
    "\n",
    "La intersección de las listas es: 2 1\n",
    "\n",
    "-----------------------------------------------------------\n",
    "\n",
    "Introduce el numero de elementos de la lista 1 (>0):  2\n",
    "Introduce los números:\n",
    "Dato 0: 3\n",
    "Dato 1: -2\n",
    "\n",
    "Introduce el numero de elementos de la lista 2 (>0):  3\n",
    "Introduce los números:\n",
    "Dato 0: 0\n",
    "Dato 1: 4\n",
    "Dato 2: 5\n",
    "\n",
    "No hay elementos comunes\n",
    "</pre>\n"
   ]
  },
  {
   "cell_type": "code",
   "execution_count": 32,
   "metadata": {},
   "outputs": [
    {
     "name": "stdout",
     "output_type": "stream",
     "text": [
      "Introduce los números\n",
      "[1, 2, 3]\n"
     ]
    }
   ],
   "source": [
    "#Escribe aquí el código de tu solución\n",
    "\n",
    "def introducir_numeros(lista_length): #parametro entrada int longitud lista  parametro salida listasalida\n",
    "    lista = []\n",
    "    print(\"Introduce los números\")\n",
    "# Comezo a introducir os numeros na lista\n",
    "    for i in range(lista_length):\n",
    "        n = int(input(\"Dato \"+str(i)))\n",
    "\n",
    "        if n in lista:\n",
    "            n = int(input(\"Error, elemento repetido. Dato \" + str(i)))\n",
    "        lista.append(n)\n",
    "    \n",
    "    return lista\n",
    "\n",
    "\n",
    "\n",
    "lista1_length = 0\n",
    "while lista1_length <= 0:\n",
    "    lista1_length = int(input(\"Introduce el número de elementos de la lista 1 (>0): \"))\n",
    "\n",
    "\n",
    "lista1 = introducir_numeros(lista1_length) #lista 1\n",
    "\n",
    "lista2 = introducir_numeros(lista2_length) #lista 2\n",
    "\n"
   ]
  },
  {
   "attachments": {},
   "cell_type": "markdown",
   "metadata": {},
   "source": [
    "<h2 style=\"color: #007BC4;\">Ejercicio 5</h2>\n",
    "<hr style=\"border: 0.5px solid #007BC4;\">\n",
    "\n",
    "Implementar un programa en Python que:\n",
    "- Lea una frase (f) por teclado.\n",
    "- Lea un caracter por teclado (c) \n",
    "- Cambie todas las vocales de f por c Muestre f\n",
    "\n",
    "#### Ejemplo de ejecución:\n",
    "\n",
    "Dime una frase: Programar en python es muy divertido<br>\n",
    "Dime un caracter: o<br>\n",
    "La nueva frase es: Progromor on python os moy dovortodo<br>\n",
    "\n",
    "================================================================\n",
    "\n",
    "Dime una frase: Estamos trabajando con listas<br>\n",
    "Dime un caracter: ?<br>\n",
    "La nueva frase es: ?st?m?s tr?b?j?nd? c?n l?st?s<br>"
   ]
  },
  {
   "cell_type": "code",
   "execution_count": 12,
   "metadata": {},
   "outputs": [
    {
     "name": "stdout",
     "output_type": "stream",
     "text": [
      "?st?m?s tr?b?j?nd? c?n l?st?s\n"
     ]
    }
   ],
   "source": [
    "#Escribe aquí el código de tu solución\n"
   ]
  }
 ],
 "metadata": {
  "kernelspec": {
   "display_name": "Python 3 (ipykernel)",
   "language": "python",
   "name": "python3"
  },
  "language_info": {
   "codemirror_mode": {
    "name": "ipython",
    "version": 3
   },
   "file_extension": ".py",
   "mimetype": "text/x-python",
   "name": "python",
   "nbconvert_exporter": "python",
   "pygments_lexer": "ipython3",
   "version": "3.11.3"
  },
  "vscode": {
   "interpreter": {
    "hash": "7e1998ff7f8aa20ada591c520b972326324e5ea05489af9e422744c7c09f6dad"
   }
  }
 },
 "nbformat": 4,
 "nbformat_minor": 4
}
