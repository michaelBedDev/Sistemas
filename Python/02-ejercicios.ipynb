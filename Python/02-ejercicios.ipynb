{
 "cells": [
  {
   "attachments": {},
   "cell_type": "markdown",
   "id": "8288bdee-a78b-4123-aff9-5c56124e95a3",
   "metadata": {},
   "source": [
    "# Tarefa2"
   ]
  },
  {
   "attachments": {},
   "cell_type": "markdown",
   "id": "d942724c-2b79-4b0a-b7f7-e98bda1b0401",
   "metadata": {},
   "source": [
    "## Introdución\n",
    "Exercicios da Tarefa 01\n"
   ]
  },
  {
   "attachments": {},
   "cell_type": "markdown",
   "id": "43420f11-0d27-421b-b80b-df4816bbd81c",
   "metadata": {},
   "source": [
    "## Exercicios"
   ]
  },
  {
   "attachments": {},
   "cell_type": "markdown",
   "id": "d3ed812d-af15-4fac-a205-daa98c7305ed",
   "metadata": {},
   "source": [
    "### Exercicio1"
   ]
  },
  {
   "attachments": {},
   "cell_type": "markdown",
   "id": "fc1da729-22e3-41a4-adfa-dabe2b8388fe",
   "metadata": {},
   "source": [
    "**_Números enteiros_**\n",
    "\n",
    "Escribir un programa que lea un entero porsitivo, n, introducido por el usuario y después muestre en pantalla la suma de todos los enteros desde 1 hasta n. La suma de los n primeros enteros positivos puede ser calculada de la siguiente forma: \n",
    "n**Exemplo de execución**\n",
    "\n",
    "```\n",
    "\n",
    "Introduce un número positivo: 5\n",
    "La suma de los primeros número enteros desde 1 hasta 5 es 15.\n",
    "\n",
    "--------------------------------------------------------------\n",
    "\n",
    "Introduce un número positivo: 20\n",
    "La suma de los primeros números enteros desde 1 hasta 20 es 210 \n",
    "\n",
    "```"
   ]
  },
  {
   "cell_type": "code",
   "execution_count": 50,
   "id": "2381362b-b9bb-4602-acbd-be0608fbd976",
   "metadata": {},
   "outputs": [
    {
     "name": "stdout",
     "output_type": "stream",
     "text": [
      "La suma de los primeros números enteros desde 1 hasta 5 es 15\n"
     ]
    }
   ],
   "source": [
    "# Escribe o código\n",
    "num = int(input(\"Introduce un número\"))\n",
    "suma = 0\n",
    "for i in range(num+1):\n",
    "    suma = suma + i\n",
    "print(f\"La suma de los primeros números enteros desde 1 hasta {num} es {suma}\")"
   ]
  },
  {
   "attachments": {},
   "cell_type": "markdown",
   "id": "b10368fc-f85a-48a1-8b7c-fbe3a40b244b",
   "metadata": {},
   "source": [
    "### Exercicio2"
   ]
  },
  {
   "attachments": {},
   "cell_type": "markdown",
   "id": "af574476-2e05-4ecd-95d4-28c2e74e6b87",
   "metadata": {},
   "source": [
    "**_IMC_**\n",
    "\n",
    "Escribir un programa que pida al usuario su peso (en kg) y estatura (en metros), calcule el índice de masa corporal y lo almacene en una variable, e imprima por pantalla la frase Tu índice de masa corporal es <imc> donde <imc> es el índice de masa corporal calculado redondeado con dos decimales.\n",
    "\n",
    "$$imc=(peso/altura^{2})$$\n",
    "\n",
    "**Exemplo de execución**\n",
    "\n",
    "```\n",
    "¿Cuál es tu peso en kg?: 72\n",
    "¿Cuál es tu estatura en metros?: 1.76\n",
    "Tu índice de masa corporal es 23\n",
    "\n",
    "----------------------------------------\n",
    "\n",
    "¿Cuál es tu peso en kg?: 85\n",
    "¿Cuál es tu estatura en metros?: 1.68\n",
    "Tu índice de masa corporal es 30\n",
    "\n",
    "----------------------------------------\n",
    "\n",
    "¿Cuál es tu peso en kg?: 56\n",
    "¿Cuál es tu estatura en metros?: 1.79\n",
    "Tu índice de masa corporal es 17\n",
    "```\n"
   ]
  },
  {
   "cell_type": "code",
   "execution_count": 51,
   "id": "4b6a2a4f-265f-464e-a4eb-d2cfba4d873a",
   "metadata": {},
   "outputs": [
    {
     "name": "stdout",
     "output_type": "stream",
     "text": [
      "Tu índice de masa corporal es 0.01\n"
     ]
    }
   ],
   "source": [
    "# Escribe o código\n",
    "peso = int(input(\"¿Cuál es tu peso en kg?\"))\n",
    "estatura = float(input(\"¿Cuál es tu estatura en metros?\"))\n",
    "\n",
    "imc = round(peso/(estatura**2),2)\n",
    "\n",
    "print(f\"Tu índice de masa corporal es {imc}\")"
   ]
  },
  {
   "attachments": {},
   "cell_type": "markdown",
   "id": "7cfe590e-1e17-47bf-9262-4691d4f0ec9f",
   "metadata": {},
   "source": [
    "### Exercicio3"
   ]
  },
  {
   "attachments": {},
   "cell_type": "markdown",
   "id": "d5ad8824-4213-4c59-8a57-4c017c147b8e",
   "metadata": {},
   "source": [
    "**_Tempo_**\n",
    "\n",
    "Escribir un programa en Python que pida al usuario un tiempo en segundos (entero) y descomponga el valor en días, horas, minutos y \n",
    "segundos transcurridos. Si algún valor es igual a cero se mostrará igualmente\n",
    "\n",
    "**Exemplo de execución**\n",
    "\n",
    "```\n",
    "Introduce la cantidad de segundos: 86465\n",
    "Días:        1\n",
    "Horas:       0\n",
    "Minutos:     1\n",
    "Segundos:    0\n",
    "```."
   ]
  },
  {
   "cell_type": "code",
   "execution_count": 52,
   "id": "9952cbe7-67d3-4b77-a67e-2948247ec06a",
   "metadata": {},
   "outputs": [
    {
     "ename": "ValueError",
     "evalue": "invalid literal for int() with base 10: ':'",
     "output_type": "error",
     "traceback": [
      "\u001b[1;31m---------------------------------------------------------------------------\u001b[0m",
      "\u001b[1;31mValueError\u001b[0m                                Traceback (most recent call last)",
      "Cell \u001b[1;32mIn[52], line 2\u001b[0m\n\u001b[0;32m      1\u001b[0m \u001b[39m# Escribe o código\u001b[39;00m\n\u001b[1;32m----> 2\u001b[0m input_segundos \u001b[39m=\u001b[39m \u001b[39mint\u001b[39;49m(\u001b[39minput\u001b[39;49m(\u001b[39m\"\u001b[39;49m\u001b[39mIntroduce la cantidad de segundos:\u001b[39;49m\u001b[39m\"\u001b[39;49m))\n\u001b[0;32m      4\u001b[0m dias \u001b[39m=\u001b[39m input_segundos\u001b[39m/\u001b[39m\u001b[39m/\u001b[39m(\u001b[39m24\u001b[39m\u001b[39m*\u001b[39m\u001b[39m3600\u001b[39m)\n\u001b[0;32m      5\u001b[0m resto_horas \u001b[39m=\u001b[39m input_segundos\u001b[39m%\u001b[39m(\u001b[39m24\u001b[39m\u001b[39m*\u001b[39m\u001b[39m3600\u001b[39m)\n",
      "\u001b[1;31mValueError\u001b[0m: invalid literal for int() with base 10: ':'"
     ]
    }
   ],
   "source": [
    "# Escribe o código\n",
    "input_segundos = int(input(\"Introduce la cantidad de segundos:\"))\n",
    "\n",
    "dias = input_segundos//(24*3600)\n",
    "resto_horas = input_segundos%(24*3600)\n",
    "\n",
    "horas = resto_horas//3600\n",
    "resto_minutos = resto_horas%3600\n",
    "\n",
    "minutos = resto_minutos//60\n",
    "resto_segundos = resto_minutos%60\n",
    "\n",
    "\n",
    "print(f\"\"\"Dias: \\t {dias}\n",
    "Horas: \\t {resto_horas}\n",
    "Minutos:\\t {resto_minutos}\n",
    "Segundos:\\t {resto_segundos}\n",
    "\"\"\")\n",
    "\n"
   ]
  },
  {
   "attachments": {},
   "cell_type": "markdown",
   "id": "743b54f9-ad4d-4aab-ac7c-73304408608d",
   "metadata": {},
   "source": [
    "### Exercicio4"
   ]
  },
  {
   "attachments": {},
   "cell_type": "markdown",
   "id": "dda83566-f5de-4c28-9801-28b713c4f3d8",
   "metadata": {},
   "source": [
    "**_Tempo(II)_**\n",
    "\n",
    "Escribir un programa en Python que:\n",
    "1. Pida por teclado de forma consecutiva la hora, minutos, segundos.\n",
    "2. Guarde los valores introducidos en tres variables.\n",
    "3. Pida al usuario por teclado un carácter separador (e.j. ’:’).\n",
    "4. Escriba por pantalla la hora introducida en formato hh:mm:ss (el carácter separador : será sustituido por el introducido por el usuario)\n",
    "5. Escriba por pantalla la cantidad total de segundos que pasan de la hora introducida (minutos*60+segundos)\n",
    "\n",
    "**Exemplo de execución**\n",
    "Introduce las horas: 5\n",
    "Introduce los minutos: 10\n",
    "Introduce los segundos: 35\n",
    "Introduce el carácter separador: :\n",
    "La hora introducida es: 05:10:35\n",
    "Han transcurrido 635 segundos desde las 5 horas\n",
    "\n",
    "------------------------------------------------\n",
    "\n",
    "Introduce las horas: 3\n",
    "Introduce los minutos: 5\n",
    "Introduce los segundos: 22\n",
    "Introduce el carácter separador: .\n",
    "La hora introducida es: 03.05:22\n",
    "Han transcurrido 322 segundos desde las 3     0\n",
    "```"
   ]
  },
  {
   "cell_type": "code",
   "execution_count": 53,
   "id": "fa5b2b66-c8f5-4ce9-9041-8d3ed9b92a06",
   "metadata": {},
   "outputs": [
    {
     "name": "stdout",
     "output_type": "stream",
     "text": [
      ":\n",
      "5:10:35\n",
      "Han pasado 635 segundos desde las 5\n"
     ]
    }
   ],
   "source": [
    "# Escribe o código\n",
    "horas = input(\"Introduce las horas\")\n",
    "minutos = input(\"Introduce los minutos\")\n",
    "segundos = input(\"Introduce los segundos\")\n",
    "separador = input(\"Introduce el carácter separador\")\n",
    "\n",
    "print(separador.join([horas,minutos,segundos]))\n",
    "\n",
    "segundos_pasados = int(minutos)*60+int(segundos)\n",
    "print(f\"Han pasado {segundos_pasados} segundos desde las {horas}\")"
   ]
  },
  {
   "attachments": {},
   "cell_type": "markdown",
   "id": "8e9e95f1-a0f7-407a-b376-7ce3d427e2af",
   "metadata": {},
   "source": [
    "### Exercicio5"
   ]
  },
  {
   "attachments": {},
   "cell_type": "markdown",
   "id": "a1c6e104-94dd-4148-92d2-1b713ee45d76",
   "metadata": {},
   "source": [
    "**_Mangueira_**\n",
    "\n",
    "Implementar un programa en Python que calcule el número de vueltas que tendremos que darle a\n",
    "un manguera para enrollarla en un soporte circular. Para ello:\n",
    "*\n",
    "- Se pedirá al usuario la longitud de la manguera y el radio del soporte en el que se enrollará, ambos en cm y números entero*.\n",
    "- Se calculará el número de vueltas enteras que la manguera podría enrollarse sobre el carre*e.\n",
    "- Se calculará la longitud la longitud del trozo de manguera restante también en cm (número r2})$$\n",
    "\n",
    "**Exemplo de execución**\n",
    "Introduce la longitud de la manguera (en cm): 100\n",
    "Introduce el radio del soporte (en cm): 5\n",
    "El numero de vueltas es 3 y sobran 5.75 cm de manguera\n",
    "\n",
    "-------------------------------------------------------\n",
    "Introduce la longitud de la manguera (en cm): 150\n",
    "Introduce el radio del soporte (en cm): 10\n",
    "El numero de vueltas es 2 y sobran 24.34 cm de mangueraes 17\n",
    "```\n"
   ]
  },
  {
   "cell_type": "code",
   "execution_count": 55,
   "id": "93049628-85d0-423b-8b79-a923915e3e39",
   "metadata": {},
   "outputs": [
    {
     "ename": "NameError",
     "evalue": "name 'Math' is not defined",
     "output_type": "error",
     "traceback": [
      "\u001b[1;31m---------------------------------------------------------------------------\u001b[0m",
      "\u001b[1;31mNameError\u001b[0m                                 Traceback (most recent call last)",
      "Cell \u001b[1;32mIn[55], line 5\u001b[0m\n\u001b[0;32m      2\u001b[0m longitud \u001b[39m=\u001b[39m \u001b[39mint\u001b[39m(\u001b[39minput\u001b[39m(\u001b[39m\"\u001b[39m\u001b[39mIntroduce la longitud de la manguera (en cm)\u001b[39m\u001b[39m\"\u001b[39m))\n\u001b[0;32m      3\u001b[0m radio \u001b[39m=\u001b[39m \u001b[39mint\u001b[39m(\u001b[39minput\u001b[39m(\u001b[39m\"\u001b[39m\u001b[39mIntroduce el radio del soporte (en cm)\u001b[39m\u001b[39m\"\u001b[39m))\n\u001b[1;32m----> 5\u001b[0m num_vueltas \u001b[39m=\u001b[39m longitud\u001b[39m/\u001b[39m\u001b[39m/\u001b[39m(\u001b[39m2\u001b[39m\u001b[39m*\u001b[39mradio\u001b[39m*\u001b[39mMath\u001b[39m.\u001b[39mpi)\n\u001b[0;32m      6\u001b[0m sobrante \u001b[39m=\u001b[39m longitud\u001b[39m%\u001b[39m(\u001b[39m2\u001b[39m\u001b[39m*\u001b[39mradio\u001b[39m*\u001b[39mMath\u001b[39m.\u001b[39mpi)\n\u001b[0;32m      8\u001b[0m \u001b[39mprint\u001b[39m(\u001b[39mf\u001b[39m\u001b[39m\"\u001b[39m\u001b[39mEl numero de vueltas es \u001b[39m\u001b[39m{\u001b[39;00mnum_vueltas\u001b[39m}\u001b[39;00m\u001b[39m y sobran \u001b[39m\u001b[39m{\u001b[39;00m\u001b[39mround\u001b[39m(sobrante,\u001b[39m2\u001b[39m)\u001b[39m}\u001b[39;00m\u001b[39m cm de manguera\u001b[39m\u001b[39m\"\u001b[39m)\n",
      "\u001b[1;31mNameError\u001b[0m: name 'Math' is not defined"
     ]
    }
   ],
   "source": [
    "# Escribe o código\n",
    "import math\n",
    "\n",
    "longitud = int(input(\"Introduce la longitud de la manguera (en cm)\"))\n",
    "radio = int(input(\"Introduce el radio del soporte (en cm)\"))\n",
    "\n",
    "num_vueltas = longitud//(2*radio*math.pi)\n",
    "sobrante = longitud%(2*radio*math.pi)\n",
    "\n",
    "print(f\"El numero de vueltas es {num_vueltas} y sobran {round(sobrante,2)} cm de manguera\")"
   ]
  }
 ],
 "metadata": {
  "kernelspec": {
   "display_name": "Python 3 (ipykernel)",
   "language": "python",
   "name": "python3"
  },
  "language_info": {
   "codemirror_mode": {
    "name": "ipython",
    "version": 3
   },
   "file_extension": ".py",
   "mimetype": "text/x-python",
   "name": "python",
   "nbconvert_exporter": "python",
   "pygments_lexer": "ipython3",
   "version": "3.11.3"
  }
 },
 "nbformat": 4,
 "nbformat_minor": 5
}
